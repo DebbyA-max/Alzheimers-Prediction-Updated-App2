{
 "cells": [
  {
   "cell_type": "code",
   "execution_count": 1,
   "id": "fcbc531f-e803-488a-ac05-3da5a40cbfe0",
   "metadata": {},
   "outputs": [],
   "source": [
    "import numpy as np\n",
    "import pandas as pd\n",
    "import matplotlib.pyplot as plt\n",
    "import joblib"
   ]
  },
  {
   "cell_type": "code",
   "execution_count": 2,
   "id": "9fae636b-9def-4f48-ba81-60849918b15c",
   "metadata": {},
   "outputs": [],
   "source": [
    "model=joblib.load(\"alzheimers_model_2.pkl\")"
   ]
  },
  {
   "cell_type": "code",
   "execution_count": 3,
   "id": "0f2b61b1-71b3-4baa-b50a-f61171831585",
   "metadata": {},
   "outputs": [
    {
     "name": "stdin",
     "output_type": "stream",
     "text": [
      "What is the Patient's educational level?:  2\n",
      "What is the Patient's age?:  64\n",
      "What is the patient's diastolic blood pressure in mmHg?:  98\n",
      "Does the patient have behavioral problems? (yes/no):  no\n",
      "What is the patient's total cholesterol level in mg/dL?:  247.58\n",
      "What is the patient's Body Mass Index?:  24.94\n",
      "What is the patient's systolic blood pressure in mmHg?:  94\n",
      "What is the level of low density lipoprotein cholesterol in the patient in mg/dL?:  193.91\n",
      "What is the patient's Diet quality score?:  5.317\n",
      "What is the patient's weekly alcohol consumption in units?:  2.176\n",
      "What is the patient's Triglycerides level in mg/dL?:  287.04\n",
      "What is the level of high density lipoprotein cholesterol in the patient in mg/dL?:  94.81\n",
      "What is the patient's sleep quality score?:  9.087\n",
      "What is the patient's weekly physical activity in hours?:  9.715\n",
      "Does the patient have memory complaints? (yes/no):  no\n",
      "What is the Mini-Mental State Examination score of the patient?:  10.79\n",
      "What is the activities of daily living score of the patient?:  5.51\n",
      "What is the functional assessment score of the patient?:  6.79\n"
     ]
    }
   ],
   "source": [
    "#Collecting patient's data:\n",
    "EducationLevel = int(input(\"What is the Patient's educational level?: \"))\n",
    "Age = int(input(\"What is the Patient's age?: \"))\n",
    "DiastolicBP = float(input(\"What is the patient's diastolic blood pressure in mmHg?: \"))\n",
    "BehavioralProblems = input(\"Does the patient have behavioral problems? (yes/no): \").strip().lower()\n",
    "BehavioralProblems = 1 if BehavioralProblems == 'yes' else 0\n",
    "CholesterolTotal = float(input(\"What is the patient's total cholesterol level in mg/dL?: \"))\n",
    "BMI = float(input(\"What is the patient's Body Mass Index?: \"))\n",
    "SystolicBP = float(input(\"What is the patient's systolic blood pressure in mmHg?: \"))\n",
    "CholesterolLDL = float(input(\"What is the level of low density lipoprotein cholesterol in the patient in mg/dL?: \"))\n",
    "DietQuality = float(input(\"What is the patient's Diet quality score?: \"))\n",
    "AlcoholConsumption = float(input(\"What is the patient's weekly alcohol consumption in units?: \"))\n",
    "CholesterolTriglycerides = float(input(\"What is the patient's Triglycerides level in mg/dL?: \"))\n",
    "CholesterolHDL = float(input(\"What is the level of high density lipoprotein cholesterol in the patient in mg/dL?: \"))\n",
    "SleepQuality = float(input(\"What is the patient's sleep quality score?: \"))\n",
    "PhysicalActivity = float(input(\"What is the patient's weekly physical activity in hours?: \"))  \n",
    "MemoryComplaints = input(\"Does the patient have memory complaints? (yes/no): \").strip().lower()\n",
    "MemoryComplaints = 1 if MemoryComplaints == 'yes' else 0\n",
    "MMSE = float(input(\"What is the Mini-Mental State Examination score of the patient?: \"))\n",
    "ADL = float(input(\"What is the activities of daily living score of the patient?: \"))\n",
    "FunctionalAssessment = float(input(\"What is the functional assessment score of the patient?: \"))\n",
    "\n",
    "\n",
    "# Create a DataFrame for prediction\n",
    "patient_data = pd.DataFrame([{\n",
    "    'EducationLevel': EducationLevel,\n",
    "    'Age': Age,\n",
    "    'DiastolicBP': DiastolicBP,\n",
    "    'BehavioralProblems': BehavioralProblems,\n",
    "    'CholesterolTotal': CholesterolTotal,\n",
    "    'BMI': BMI,\n",
    "    'SystolicBP': SystolicBP,\n",
    "    'CholesterolLDL': CholesterolLDL,\n",
    "    'DietQuality': DietQuality,\n",
    "    'AlcoholConsumption': AlcoholConsumption,\n",
    "    'CholesterolTriglycerides': CholesterolTriglycerides,\n",
    "    'CholesterolHDL': CholesterolHDL,\n",
    "    'SleepQuality': SleepQuality,\n",
    "    'PhysicalActivity': PhysicalActivity,\n",
    "    'MemoryComplaints': MemoryComplaints,\n",
    "    'MMSE': MMSE,\n",
    "    'ADL': ADL,\n",
    "    'FunctionalAssessment': FunctionalAssessment,\n",
    "}])\n",
    "\n",
    "# Ensure proper data types (convert to numeric where applicable)\n",
    "try:\n",
    "    patient_data = patient_data.apply(pd.to_numeric)\n",
    "except Exception as e:\n",
    "    print(\"Conversion error:\", e)"
   ]
  },
  {
   "cell_type": "code",
   "execution_count": 4,
   "id": "39b7481d-b2f4-435d-8e2c-3d89c6904a15",
   "metadata": {},
   "outputs": [],
   "source": [
    "# Reorder columns to match training\n",
    "patient_data = patient_data[model.feature_names_in_]\n",
    "\n",
    "# Make prediction\n",
    "prediction = model.predict(patient_data)"
   ]
  },
  {
   "cell_type": "code",
   "execution_count": 5,
   "id": "73daff95-d131-4fce-b949-9eb917a998f9",
   "metadata": {},
   "outputs": [
    {
     "name": "stdout",
     "output_type": "stream",
     "text": [
      "Patient is unlikely to have Alzheimer's disease.\n",
      "Prediction confidence: [0]\n"
     ]
    }
   ],
   "source": [
    "if prediction == 1:\n",
    "    print(\"Patient may have Alzheimer's disease.\")\n",
    "else:\n",
    "    print(\"Patient is unlikely to have Alzheimer's disease.\")\n",
    "\n",
    "print(\"Prediction confidence:\", prediction)"
   ]
  },
  {
   "cell_type": "code",
   "execution_count": 3,
   "id": "6508188a-f6b1-4e24-800a-0289aa931a41",
   "metadata": {},
   "outputs": [],
   "source": [
    "app2_code=\"\"\"\n",
    "import streamlit as st\n",
    "import numpy as np\n",
    "import joblib\n",
    "\n",
    "model = joblib.load(\"alzheimers_model_2.pkl\")\n",
    "st.title(\"Alzheimer's Disease Prediction App\")\n",
    "st.write(\"Enter your data below to predict Alzheimer's Diagnosis.\")\n",
    "\n",
    "Age = st.number_input(\"Enter your age (60-90 years)\", min_value=60, max_value=90, value=60, step=1, format=\"%d\", key=\"age_input\")\n",
    "education_options = [\n",
    "    \"0: None\",\n",
    "    \"1: High School\",\n",
    "    \"2: Bachelor's\",\n",
    "    \"3: Higher\"\n",
    "]\n",
    "education_selected = st.radio(\"Select your education level:\", education_options, key=\"edu_input\")\n",
    "EducationLevel_encoded = int(education_selected.split(\":\")[0]) \n",
    "\n",
    "DietQuality = st.number_input(\"How well you eat a balanced diet (0-10)\", min_value=0.0,  max_value=10.0, value=0.0, step=0.1, format=\"%.2f\", key=\"diq_input\")\n",
    "SleepQuality = st.number_input(\"How often and sound your sleep is (4-10)\", min_value=4.0, max_value=10.0, value=4.0, step=0.1, format=\"%.2f\", key=\"slp_input\")\n",
    "PhysicalActivity = st.number_input(\"How well you exercise or your total amount of movement per week (0-10 hours)\", min_value=0.0, max_value=10.0, value=0.0, step=0.1, format=\"%.2f\", key=\"pha_input\")\n",
    "ADL = st.number_input(\"How well you can independently take care of yourself and your surroundings (0-10)\", min_value=0.0, max_value=10.0, value=0.0, step=0.1, format=\"%.2f\", key=\"ADL_input\")\n",
    "AlcoholConsumption = st.number_input(\"How much of alcohol you consume per week (0-20 Units)\", min_value=0.0, max_value=20.0, value=0.0, step=0.1, format=\"%.2f\", key=\"alc_input\")\n",
    "BMI = st.number_input(\"Body Mass Index (15-40)\", min_value=15.0, max_value=40.0, value=15.0, step=0.1, format=\"%.2f\", key=\"bmi_input\")\n",
    "SystolicBP = st.number_input(\"Top number of your Blood Pressure reading (90-180 mmHg)\", min_value=90, max_value=180, value=90, step=1, format=\"%d\", key=\"sbp_input\")\n",
    "DiastolicBP = st.number_input(\"Lower number of your Blood Pressure reading (60-120 mmHg)\", min_value=60, max_value=120, value=60, step=1, format=\"%d\", key=\"dbp_input\")\n",
    "CholesterolLDL = st.number_input(\"Input your Low Density Lipoprotein Cholesterol Level (50-200 mg/dL)\", min_value=50.0, max_value=200.0, value=50.0, step=0.1, format=\"%.2f\", key=\"cldl_input\")\n",
    "CholesterolHDL = st.number_input(\"Input your High Density Lipoprotein Cholesterol Level (20-100 mg/dL)\", min_value=20.0, max_value=100.0, value=20.0, step=0.1, format=\"%.2f\", key=\"chdl_input\")\n",
    "CholesterolTriglycerides = st.number_input(\"Input your Triglycerides Level (50-400 mg/dL)\", min_value=50.0, max_value=400.0, value=50.0, step=0.1, format=\"%.2f\", key=\"ctry_input\")\n",
    "CholesterolTotal = st.number_input(\"Input your Total Cholesterol Level (150-300 mg/dL)\", min_value=150.0, max_value=300.0, value=150.0, step=0.1, format=\"%.2f\", key=\"cht_input\")\n",
    "\n",
    "MemoryComplaints = st.radio(\"Do You Have Memory Complaints?\", [\"Yes\", \"No\"], key=\"mce_input\")\n",
    "MemoryComplaints_encoded = 1 if MemoryComplaints == \"Yes\" else 0\n",
    "\n",
    "BehavioralProblems = st.radio(\"Do you have behavioral problems?\", [\"Yes\", \"No\"], key=\"bpe_input\")\n",
    "BehavioralProblems_encoded = 1 if BehavioralProblems == \"Yes\" else 0\n",
    "\n",
    "FunctionalAssessment = st.number_input(\"How well you can handle physical, mental and social tasks (0-10)\", min_value=0.0, max_value=10.0, value=0.0, step=0.1, format=\"%.2f\", key=\"fun_acc_input\")\n",
    "MMSE = st.number_input(\"How active your brain is in remembering things, answering questions and following instructions (0-30)\", min_value=0.0, max_value=30.0, value=0.0, step=0.1, format=\"%.2f\", key=\"MMSE_input\"))\n",
    "\n",
    "\n",
    "input_data = np.array([[\n",
    "    Age, EducationLevel_encoded, DietQuality, SleepQuality, PhysicalActivity, \n",
    "    ADL, AlcoholConsumption, BMI, SystolicBP,  DiastolicBP,\n",
    "    CholesterolLDL, CholesterolHDL, CholesterolTriglycerides, CholesterolTotal,  \n",
    "    MemoryComplaints_encoded, BehavioralProblems_encoded, FunctionalAssessment, MMSE,\n",
    "]])\n",
    "\n",
    "\n",
    "if st.button(\"Predict\"):\n",
    "    prediction = model.predict(input_data)[0]\n",
    "    st.success(f\"Prediction: {prediction}\")\n",
    "\"\"\""
   ]
  },
  {
   "cell_type": "code",
   "execution_count": 4,
   "id": "25a9631b-35b9-4f75-ac44-9c7e497801c5",
   "metadata": {},
   "outputs": [],
   "source": [
    "with open(\"app2.py\", \"w\") as f:\n",
    "    f.write(app2_code)"
   ]
  },
  {
   "cell_type": "code",
   "execution_count": 5,
   "id": "48a578ff-35c1-4860-a6f7-44b454dcd9dc",
   "metadata": {},
   "outputs": [
    {
     "name": "stdout",
     "output_type": "stream",
     "text": [
      "\n",
      "import streamlit as st\n",
      "import numpy as np\n",
      "import joblib\n",
      "\n",
      "model = joblib.load(\"alzheimers_model_2.pkl\")\n",
      "st.title(\"Alzheimer's Disease Prediction App\")\n",
      "st.write(\"Enter the patient's data below to predict Alzheimer's Diagnosis.\")\n",
      "\n",
      "Age = st.number_input(\"Patient's Age (60-90 years)\", min_value=60, max_value=90, value=60, step=1, format=\"%d\", key=\"age_input\")\n",
      "\n",
      "education_options = [\n",
      "    \"0: None\",\n",
      "    \"1: High School\",\n",
      "    \"2: Bachelor's\",\n",
      "    \"3: Higher\"\n",
      "]\n",
      "education_selected = st.radio(\"Select the Patient's Education Level:\", education_options, key=\"edu_input\")\n",
      "EducationLevel_encoded = int(education_selected.split(\":\")[0])\n",
      "\n",
      "DietQuality = st.number_input(\"Diet Quality Score (0-10)\", min_value=0.0,  max_value=10.0, value=0.0, step=0.1, format=\"%.2f\", key=\"diq_input\")\n",
      "SleepQuality = st.number_input(\"Sleep Quality Score (4-10)\", min_value=4.0, max_value=10.0, value=4.0, step=0.1, format=\"%.2f\", key=\"slp_input\")\n",
      "PhysicalActivity = st.number_input(\"Weekly Physical Activity (0-10 hours)\", min_value=0.0, max_value=10.0, value=0.0, step=0.1, format=\"%.2f\", key=\"pha_input\")\n",
      "ADL = st.number_input(\"Activities of Daily Living Score (0-10)\", min_value=0.0, max_value=10.0, value=0.0, step=0.1, format=\"%.2f\", key=\"ADL_input\")\n",
      "AlcoholConsumption = st.number_input(\"Weekly Alcohol Consumption (0-20 Units)\", min_value=0.0, max_value=20.0, value=0.0, step=0.1, format=\"%.2f\", key=\"alc_input\")\n",
      "BMI = st.number_input(\"Body Mass Index (15-40)\", min_value=15.0, max_value=40.0, value=15.0, step=0.1, format=\"%.2f\", key=\"bmi_input\")\n",
      "SystolicBP = st.number_input(\"Systolic Blood Pressure (90-180 mmHg)\", min_value=90, max_value=180, value=90, step=1, format=\"%d\", key=\"sbp_input\")\n",
      "DiastolicBP = st.number_input(\"Diastolic Blood Pressure (60-120 mmHg)\", min_value=60, max_value=120, value=60, step=1, format=\"%d\", key=\"dbp_input\")\n",
      "CholesterolLDL = st.number_input(\"Low Density Lipoprotein Cholesterol Level (50-200 mg/dL)\", min_value=50.0, max_value=200.0, value=50.0, step=0.1, format=\"%.2f\", key=\"cldl_input\")\n",
      "CholesterolHDL = st.number_input(\"High Density Lipoprotein Cholesterol Level (20-100 mg/dL)\", min_value=20.0, max_value=100.0, value=20.0, step=0.1, format=\"%.2f\", key=\"chdl_input\")\n",
      "CholesterolTriglycerides = st.number_input(\"Triglycerides Level (50-400 mg/dL)\", min_value=50.0, max_value=400.0, value=50.0, step=0.1, format=\"%.2f\", key=\"ctry_input\")\n",
      "CholesterolTotal = st.number_input(\"Total Cholesterol Level (150-300 mg/dL)\", min_value=150.0, max_value=300.0, value=150.0, step=0.1, format=\"%.2f\", key=\"cht_input\")\n",
      "\n",
      "MemoryComplaints = st.radio(\"Presence of Memory Complaints\", [\"Yes\", \"No\"], key=\"mce_input\")\n",
      "MemoryComplaints_encoded = 1 if MemoryComplaints == \"Yes\" else 0\n",
      "\n",
      "BehavioralProblems = st.radio(\"Presence of Behavioral Problems\", [\"Yes\", \"No\"], key=\"bpe_input\")\n",
      "BehavioralProblems_encoded = 1 if BehavioralProblems == \"Yes\" else 0\n",
      "\n",
      "FunctionalAssessment = st.number_input(\"Functional Assessment Score (0-10)\", min_value=0.0, max_value=10.0, value=0.0, step=0.1, format=\"%.2f\", key=\"fun_acc_input\")\n",
      "MMSE = st.number_input(\"Mini-Mental State Examination score (0-30)\", min_value=0.0, max_value=30.0, value=0.0, step=0.1, format=\"%.2f\", key=\"MMSE_input\")\n",
      "\n",
      "\n",
      "input_data = np.array([[\n",
      "    Age, EducationLevel_encoded, DietQuality, SleepQuality, PhysicalActivity, \n",
      "    ADL, AlcoholConsumption, BMI,  SystolicBP, DiastolicBP,\n",
      "    CholesterolLDL, CholesterolHDL, CholesterolTriglycerides, CholesterolTotal,  \n",
      "    MemoryComplaints_encoded, BehavioralProblems_encoded, FunctionalAssessment, MMSE,\n",
      "]])\n",
      "\n",
      "\n",
      "if st.button(\"Predict\"):\n",
      "    prediction = model.predict(input_data)[0]\n",
      "\n",
      "    if prediction == 1:\n",
      "        st.success(f\"Prediction: {prediction}, Patient may have Alzheimer's disease.\")\n",
      "    else:\n",
      "        st.success(f\"Prediction: {prediction}, Patient is unlikely to have Alzheimer's disease.\")\n",
      "\n"
     ]
    }
   ],
   "source": [
    "with open(\"app.py\") as f:\n",
    "    print(f.read())"
   ]
  },
  {
   "cell_type": "code",
   "execution_count": null,
   "id": "4a7619b6-eb9e-4613-accc-3ed4caf80f5a",
   "metadata": {},
   "outputs": [],
   "source": []
  }
 ],
 "metadata": {
  "kernelspec": {
   "display_name": "Python 3 (ipykernel)",
   "language": "python",
   "name": "python3"
  },
  "language_info": {
   "codemirror_mode": {
    "name": "ipython",
    "version": 3
   },
   "file_extension": ".py",
   "mimetype": "text/x-python",
   "name": "python",
   "nbconvert_exporter": "python",
   "pygments_lexer": "ipython3",
   "version": "3.13.2"
  }
 },
 "nbformat": 4,
 "nbformat_minor": 5
}
